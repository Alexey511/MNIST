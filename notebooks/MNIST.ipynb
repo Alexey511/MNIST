{
  "cells": [
    {
      "cell_type": "code",
      "execution_count": 91,
      "metadata": {
        "id": "4_xqcRO8GAX6"
      },
      "outputs": [],
      "source": [
        "import os\n",
        "import random\n",
        "import pathlib\n",
        "import time\n",
        "\n",
        "import numpy as np\n",
        "import pandas as pd\n",
        "\n",
        "from matplotlib import pyplot as plt\n",
        "import seaborn as sns\n",
        "\n",
        "import torch\n",
        "device = torch.device(\"cuda\" if torch.cuda.is_available() else \"cpu\")\n",
        "\n",
        "import torchvision\n",
        "from torchvision import transforms\n",
        "\n",
        "from torch.utils.data import DataLoader\n",
        "\n",
        "from tqdm.notebook import tqdm\n",
        "\n",
        "#from datasets import load_dataset, load_metric"
      ]
    },
    {
      "cell_type": "code",
      "execution_count": 92,
      "metadata": {},
      "outputs": [
        {
          "name": "stdout",
          "output_type": "stream",
          "text": [
            "True\n",
            "2.4.1+cu118\n"
          ]
        }
      ],
      "source": [
        "print(torch.backends.cuda.is_built())\n",
        "print(torch.__version__)"
      ]
    },
    {
      "cell_type": "code",
      "execution_count": null,
      "metadata": {},
      "outputs": [],
      "source": [
        "MNIST_FOLDER = r'C:\\Users\\User\\Documents\\Progs\\Projects\\MNIST'\n",
        "MNIST_NOTEBOOKS_FOLDER = os.path.join(MNIST_FOLDER, 'notebooks')\n",
        "MNIST_MODELS_FOLDER = os.path.join(MNIST_FOLDER, 'models')\n",
        "MNIST_RESULTS_FOLDER = os.path.join(MNIST_FOLDER, 'results')"
      ]
    },
    {
      "cell_type": "code",
      "execution_count": null,
      "metadata": {
        "id": "9D3IgsomlARc"
      },
      "outputs": [],
      "source": [
        "train_data = torchvision.datasets.MNIST(\"./\", train=True, download=True)\n",
        "test_data = torchvision.datasets.MNIST(\"./\", train=False, download=True)"
      ]
    },
    {
      "cell_type": "code",
      "execution_count": 95,
      "metadata": {},
      "outputs": [
        {
          "name": "stdout",
          "output_type": "stream",
          "text": [
            "Dataset MNIST\n",
            "    Number of datapoints: 60000\n",
            "    Root location: ./\n",
            "    Split: Train\n",
            "type(train_data) <class 'torchvision.datasets.mnist.MNIST'>\n",
            "len(train_data) 60000\n",
            "len(train_data[0]) 2\n",
            "train_data[0][1] 5\n",
            "type(train_data[0][0]) <class 'PIL.Image.Image'>\n"
          ]
        }
      ],
      "source": [
        "print(train_data)\n",
        "print(f'type(train_data) {type(train_data)}')\n",
        "print(f'len(train_data) {len(train_data)}')      # первый индекс - номер объекта\n",
        "print(f'len(train_data[0]) {len(train_data[0])}')   # второй индекс: 0 - картинка, 1 - лейбл\n",
        "print(f'train_data[0][1] {train_data[0][1]}')\n",
        "print(f'type(train_data[0][0]) {type(train_data[0][0])}')\n",
        "#print(f'train_data[0][0].shape {train_data[0][0].shape}')   # величина картинки - 1х28х28 (1 - одноканальная картинка)"
      ]
    },
    {
      "cell_type": "code",
      "execution_count": 96,
      "metadata": {},
      "outputs": [
        {
          "name": "stdout",
          "output_type": "stream",
          "text": [
            "Train class distribution: [5923 6742 5958 6131 5842 5421 5918 6265 5851 5949]\n",
            "Test class distribution: [ 980 1135 1032 1010  982  892  958 1028  974 1009]\n"
          ]
        }
      ],
      "source": [
        "# классы сбалансированы\n",
        "train_labels = np.array([train_data[i][1] for i in range(len(train_data))])\n",
        "test_labels = np.array([test_data[i][1] for i in range(len(test_data))])\n",
        "print(\"Train class distribution:\", np.bincount(train_labels))\n",
        "print(\"Test class distribution:\", np.bincount(test_labels))"
      ]
    },
    {
      "cell_type": "code",
      "execution_count": 97,
      "metadata": {},
      "outputs": [
        {
          "name": "stdout",
          "output_type": "stream",
          "text": [
            "Train data: Min pixel value = 0.000, Max pixel value = 1.000\n",
            "Test data: Min pixel value = 0.000, Max pixel value = 1.000\n",
            "Mean: 0.1307\n",
            "Std: 0.3081\n"
          ]
        }
      ],
      "source": [
        "# Кастомный collate_fn для обработки PIL -> torch.tensor\n",
        "def pil_collate_fn(batch):\n",
        "    images, labels = zip(*batch)  # batch: список [(img1, label1), (img2, label2), ...]\n",
        "    images = torch.stack([transforms.ToTensor()(img) for img in images])  # PIL -> тензор\n",
        "    labels = torch.tensor(labels)\n",
        "    return images, labels\n",
        "\n",
        "train_loader = DataLoader(train_data, batch_size=1000, shuffle=False, collate_fn=pil_collate_fn)\n",
        "test_loader = DataLoader(test_data, batch_size=1000, shuffle=False, collate_fn=pil_collate_fn)\n",
        "\n",
        "# Функция для поиска min/max\n",
        "def find_global_min_max(data_loader):\n",
        "    global_max = -float('inf')\n",
        "    global_min = float('inf')\n",
        "    \n",
        "    for images, _ in data_loader:\n",
        "        batch_max = torch.max(images)\n",
        "        batch_min = torch.min(images)\n",
        "        \n",
        "        global_max = max(global_max, batch_max.item())\n",
        "        global_min = min(global_min, batch_min.item())\n",
        "    \n",
        "    return global_min, global_max\n",
        "\n",
        "# Проверка min/max\n",
        "train_min, train_max = find_global_min_max(train_loader)\n",
        "print(f\"Train data: Min pixel value = {train_min:.3f}, Max pixel value = {train_max:.3f}\")\n",
        "\n",
        "test_min, test_max = find_global_min_max(test_loader)\n",
        "print(f\"Test data: Min pixel value = {test_min:.3f}, Max pixel value = {test_max:.3f}\")\n",
        "\n",
        "# Вычисление mean и std\n",
        "mean = 0.0\n",
        "std = 0.0\n",
        "total_pixels = 0\n",
        "\n",
        "for images, _ in train_loader:\n",
        "    batch_pixels = images.numel()  # Количество пикселей в батче\n",
        "    mean += images.sum() / batch_pixels\n",
        "    total_pixels += batch_pixels\n",
        "\n",
        "mean = mean / len(train_loader)\n",
        "print(f\"Mean: {mean:.4f}\")\n",
        "\n",
        "# Второй проход для std\n",
        "mean = mean.item()\n",
        "sum_squared_diff = 0.0\n",
        "for images, _ in train_loader:\n",
        "    sum_squared_diff += ((images - mean) ** 2).sum()\n",
        "\n",
        "std = torch.sqrt(sum_squared_diff / total_pixels)\n",
        "print(f\"Std: {std:.4f}\")"
      ]
    },
    {
      "cell_type": "code",
      "execution_count": 100,
      "metadata": {},
      "outputs": [
        {
          "data": {
            "image/png": "[encoded data removed]",
            "text/plain": [
              "<Figure size 1000x400 with 10 Axes>"
            ]
          },
          "metadata": {},
          "output_type": "display_data"
        }
      ],
      "source": [
        "random_rotation = transforms.Compose([\n",
        "    transforms.RandomAffine(degrees=10, translate=(0.1, 0.1)),  # Случайный поворот на [-10, +10] градусов\n",
        "    transforms.ToTensor(),                 # Преобразование в тензор [1, 28, 28], [0.0, 1.0]\n",
        "    transforms.Normalize((mean,), (std,))\n",
        "])\n",
        "\n",
        "no_rotation = transforms.Compose([\n",
        "    transforms.ToTensor(),\n",
        "    transforms.Normalize((mean,), (std,))\n",
        "])\n",
        "\n",
        "class Transformed_Dataset(torch.utils.data.Dataset):\n",
        "    def __init__(self, dataset, transform=None):\n",
        "        self.dataset = dataset\n",
        "        self.transform = transform\n",
        "        pass\n",
        "\n",
        "    def __getitem__(self, idx):\n",
        "        image, label = self.dataset[idx]\n",
        "        \n",
        "        if self.transform is not None:\n",
        "            image = self.transform(image)\n",
        "        \n",
        "        return image, label\n",
        "\n",
        "    def __len__(self):\n",
        "        return len(self.dataset)\n",
        "\n",
        "train_data_rotated = Transformed_Dataset(train_data, transform=random_rotation)\n",
        "train_dataloader_rotated = torch.utils.data.DataLoader(train_data_rotated, batch_size=64, shuffle=True)\n",
        "\n",
        "images, labels = next(iter(train_dataloader_rotated))\n",
        "\n",
        "fig, axes = plt.subplots(2, 5, figsize=(10, 4))\n",
        "for i, ax in enumerate(axes.flat):\n",
        "    ax.imshow(images[i].squeeze(), cmap='gray')  # .squeeze() убирает канал [1, 28, 28] -> [28, 28]\n",
        "    ax.set_title(f\"Label: {labels[i].item()}\")\n",
        "    ax.axis('off')\n",
        "plt.tight_layout()\n",
        "plt.show()"
      ]
    },
    {
      "cell_type": "code",
      "execution_count": null,
      "metadata": {},
      "outputs": [],
      "source": []
    },
    {
      "cell_type": "code",
      "execution_count": null,
      "metadata": {},
      "outputs": [],
      "source": []
    },
    {
      "cell_type": "code",
      "execution_count": null,
      "metadata": {},
      "outputs": [],
      "source": []
    },
    {
      "cell_type": "code",
      "execution_count": null,
      "metadata": {},
      "outputs": [],
      "source": []
    },
    {
      "cell_type": "code",
      "execution_count": null,
      "metadata": {},
      "outputs": [],
      "source": []
    },
    {
      "cell_type": "code",
      "execution_count": null,
      "metadata": {
        "id": "VkIiORsmGKxe"
      },
      "outputs": [],
      "source": []
    }
  ],
  "metadata": {
    "colab": {
      "provenance": []
    },
    "kernelspec": {
      "display_name": "Python 3",
      "name": "python3"
    },
    "language_info": {
      "codemirror_mode": {
        "name": "ipython",
        "version": 3
      },
      "file_extension": ".py",
      "mimetype": "text/x-python",
      "name": "python",
      "nbconvert_exporter": "python",
      "pygments_lexer": "ipython3",
      "version": "3.12.2"
    }
  },
  "nbformat": 4,
  "nbformat_minor": 0
}
